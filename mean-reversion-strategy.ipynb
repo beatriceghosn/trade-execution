{
 "cells": [
  {
   "cell_type": "markdown",
   "metadata": {},
   "source": [
    "## Mean Reversion Strategy"
   ]
  },
  {
   "cell_type": "markdown",
   "metadata": {},
   "source": [
    "### Imports"
   ]
  },
  {
   "cell_type": "code",
   "execution_count": 1,
   "metadata": {},
   "outputs": [],
   "source": [
    "import pandas as pd\n",
    "import numpy as np\n",
    "import matplotlib.pyplot as plt\n",
    "import yfinance as yf"
   ]
  },
  {
   "cell_type": "markdown",
   "metadata": {},
   "source": [
    "### Load Data"
   ]
  },
  {
   "cell_type": "code",
   "execution_count": 2,
   "metadata": {},
   "outputs": [
    {
     "name": "stderr",
     "output_type": "stream",
     "text": [
      "[*********************100%%**********************]  1 of 1 completed"
     ]
    },
    {
     "name": "stdout",
     "output_type": "stream",
     "text": [
      "               Close\n",
      "Date                \n",
      "2003-12-01  1.196501\n",
      "2003-12-02  1.208897\n",
      "2003-12-03  1.212298\n",
      "2003-12-04  1.208094\n",
      "2003-12-05  1.218695\n"
     ]
    },
    {
     "name": "stderr",
     "output_type": "stream",
     "text": [
      "\n"
     ]
    }
   ],
   "source": [
    "data = yf.download('EURUSD=X', start='2000-01-01')\n",
    "data = data[['Close']]\n",
    "data = data.dropna()\n",
    "\n",
    "print(data.head())"
   ]
  },
  {
   "cell_type": "markdown",
   "metadata": {},
   "source": [
    "### Mean Reversion Strategy"
   ]
  },
  {
   "cell_type": "code",
   "execution_count": 3,
   "metadata": {},
   "outputs": [],
   "source": [
    "half_life = 243     # From mean-reversion-and-stationarity.ipynb\n",
    "\n",
    "# Moving Average & Std. Deviation\n",
    "data['MovingAvg'] = data['Close'].rolling(window=half_life).mean()\n",
    "data['MovingStd'] = data['Close'].rolling(window=half_life).std()\n",
    "\n",
    "# Z-Score & Position\n",
    "data['Z'] = (data['Close'] - data['MovingAvg']) / data['MovingStd']\n",
    "data['Position'] = -data['Z']"
   ]
  },
  {
   "cell_type": "code",
   "execution_count": 8,
   "metadata": {},
   "outputs": [
    {
     "data": {
      "text/html": [
       "<div>\n",
       "<style scoped>\n",
       "    .dataframe tbody tr th:only-of-type {\n",
       "        vertical-align: middle;\n",
       "    }\n",
       "\n",
       "    .dataframe tbody tr th {\n",
       "        vertical-align: top;\n",
       "    }\n",
       "\n",
       "    .dataframe thead th {\n",
       "        text-align: right;\n",
       "    }\n",
       "</style>\n",
       "<table border=\"1\" class=\"dataframe\">\n",
       "  <thead>\n",
       "    <tr style=\"text-align: right;\">\n",
       "      <th></th>\n",
       "      <th>Close</th>\n",
       "      <th>MovingAvg</th>\n",
       "      <th>MovingStd</th>\n",
       "      <th>Z</th>\n",
       "      <th>Position</th>\n",
       "    </tr>\n",
       "    <tr>\n",
       "      <th>Date</th>\n",
       "      <th></th>\n",
       "      <th></th>\n",
       "      <th></th>\n",
       "      <th></th>\n",
       "      <th></th>\n",
       "    </tr>\n",
       "  </thead>\n",
       "  <tbody>\n",
       "    <tr>\n",
       "      <th>2004-11-04</th>\n",
       "      <td>1.287300</td>\n",
       "      <td>1.229394</td>\n",
       "      <td>0.024674</td>\n",
       "      <td>2.346862</td>\n",
       "      <td>-2.346862</td>\n",
       "    </tr>\n",
       "    <tr>\n",
       "      <th>2004-11-05</th>\n",
       "      <td>1.296697</td>\n",
       "      <td>1.229806</td>\n",
       "      <td>0.024957</td>\n",
       "      <td>2.680227</td>\n",
       "      <td>-2.680227</td>\n",
       "    </tr>\n",
       "    <tr>\n",
       "      <th>2004-11-08</th>\n",
       "      <td>1.290806</td>\n",
       "      <td>1.230143</td>\n",
       "      <td>0.025225</td>\n",
       "      <td>2.404811</td>\n",
       "      <td>-2.404811</td>\n",
       "    </tr>\n",
       "    <tr>\n",
       "      <th>2004-11-09</th>\n",
       "      <td>1.289907</td>\n",
       "      <td>1.230463</td>\n",
       "      <td>0.025489</td>\n",
       "      <td>2.332188</td>\n",
       "      <td>-2.332188</td>\n",
       "    </tr>\n",
       "    <tr>\n",
       "      <th>2004-11-10</th>\n",
       "      <td>1.288593</td>\n",
       "      <td>1.230794</td>\n",
       "      <td>0.025719</td>\n",
       "      <td>2.247375</td>\n",
       "      <td>-2.247375</td>\n",
       "    </tr>\n",
       "    <tr>\n",
       "      <th>...</th>\n",
       "      <td>...</td>\n",
       "      <td>...</td>\n",
       "      <td>...</td>\n",
       "      <td>...</td>\n",
       "      <td>...</td>\n",
       "    </tr>\n",
       "    <tr>\n",
       "      <th>2024-02-06</th>\n",
       "      <td>1.074183</td>\n",
       "      <td>1.083987</td>\n",
       "      <td>0.016233</td>\n",
       "      <td>-0.603932</td>\n",
       "      <td>0.603932</td>\n",
       "    </tr>\n",
       "    <tr>\n",
       "      <th>2024-02-07</th>\n",
       "      <td>1.075720</td>\n",
       "      <td>1.084052</td>\n",
       "      <td>0.016168</td>\n",
       "      <td>-0.515313</td>\n",
       "      <td>0.515313</td>\n",
       "    </tr>\n",
       "    <tr>\n",
       "      <th>2024-02-08</th>\n",
       "      <td>1.077575</td>\n",
       "      <td>1.084113</td>\n",
       "      <td>0.016115</td>\n",
       "      <td>-0.405754</td>\n",
       "      <td>0.405754</td>\n",
       "    </tr>\n",
       "    <tr>\n",
       "      <th>2024-02-09</th>\n",
       "      <td>1.077726</td>\n",
       "      <td>1.084150</td>\n",
       "      <td>0.016090</td>\n",
       "      <td>-0.399273</td>\n",
       "      <td>0.399273</td>\n",
       "    </tr>\n",
       "    <tr>\n",
       "      <th>2024-02-11</th>\n",
       "      <td>1.078632</td>\n",
       "      <td>1.084247</td>\n",
       "      <td>0.015985</td>\n",
       "      <td>-0.351244</td>\n",
       "      <td>0.351244</td>\n",
       "    </tr>\n",
       "  </tbody>\n",
       "</table>\n",
       "<p>5000 rows × 5 columns</p>\n",
       "</div>"
      ],
      "text/plain": [
       "               Close  MovingAvg  MovingStd         Z  Position\n",
       "Date                                                          \n",
       "2004-11-04  1.287300   1.229394   0.024674  2.346862 -2.346862\n",
       "2004-11-05  1.296697   1.229806   0.024957  2.680227 -2.680227\n",
       "2004-11-08  1.290806   1.230143   0.025225  2.404811 -2.404811\n",
       "2004-11-09  1.289907   1.230463   0.025489  2.332188 -2.332188\n",
       "2004-11-10  1.288593   1.230794   0.025719  2.247375 -2.247375\n",
       "...              ...        ...        ...       ...       ...\n",
       "2024-02-06  1.074183   1.083987   0.016233 -0.603932  0.603932\n",
       "2024-02-07  1.075720   1.084052   0.016168 -0.515313  0.515313\n",
       "2024-02-08  1.077575   1.084113   0.016115 -0.405754  0.405754\n",
       "2024-02-09  1.077726   1.084150   0.016090 -0.399273  0.399273\n",
       "2024-02-11  1.078632   1.084247   0.015985 -0.351244  0.351244\n",
       "\n",
       "[5000 rows x 5 columns]"
      ]
     },
     "execution_count": 8,
     "metadata": {},
     "output_type": "execute_result"
    }
   ],
   "source": [
    "data[data['Position'].notna()]"
   ]
  }
 ],
 "metadata": {
  "kernelspec": {
   "display_name": "Python 3",
   "language": "python",
   "name": "python3"
  },
  "language_info": {
   "codemirror_mode": {
    "name": "ipython",
    "version": 3
   },
   "file_extension": ".py",
   "mimetype": "text/x-python",
   "name": "python",
   "nbconvert_exporter": "python",
   "pygments_lexer": "ipython3",
   "version": "3.8.18"
  }
 },
 "nbformat": 4,
 "nbformat_minor": 2
}
